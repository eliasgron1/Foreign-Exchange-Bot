{
 "cells": [
  {
   "cell_type": "code",
   "execution_count": 1,
   "metadata": {},
   "outputs": [
    {
     "name": "stdout",
     "output_type": "stream",
     "text": [
      "['AUD_USD', 'EUR_USD', 'EUR_AUD', 'EUR_GBP', 'GBP_USD', 'GBP_AUD']\n",
      "status:200, pair:AUD_USD\n",
      "status:200, pair:EUR_USD\n",
      "status:200, pair:EUR_AUD\n",
      "status:200, pair:EUR_GBP\n",
      "status:200, pair:GBP_USD\n",
      "status:200, pair:GBP_AUD\n"
     ]
    }
   ],
   "source": [
    "import requests\n",
    "import defs, utils\n",
    "import oanda_api\n",
    "import pandas as pd\n",
    "\n",
    "session = requests.Session()\n",
    "\n",
    "ins_df = pd.read_pickle(utils.get_instruments_data_filename())\n",
    "\n",
    "api = oanda_api.OandaAPI()\n",
    "\n",
    "print(utils.get_currency_pairs())\n",
    "\n",
    "for pair in utils.get_currency_pairs():\n",
    "\n",
    "    status_code, json = api.fetch_candles(pair, 5000, \"H1\")\n",
    "    dataframe = api.get_candles_df(json)\n",
    "    api.save_candles(dataframe, pair)\n",
    "    \n",
    "    print(f\"status:{status_code}, pair:{pair}\")\n",
    "         \n",
    " \n",
    "        \n",
    "\n",
    "\n",
    "\n",
    "\n",
    "\n",
    "\n",
    "\n"
   ]
  }
 ],
 "metadata": {
  "kernelspec": {
   "display_name": ".venv",
   "language": "python",
   "name": "python3"
  },
  "language_info": {
   "codemirror_mode": {
    "name": "ipython",
    "version": 3
   },
   "file_extension": ".py",
   "mimetype": "text/x-python",
   "name": "python",
   "nbconvert_exporter": "python",
   "pygments_lexer": "ipython3",
   "version": "3.10.12"
  }
 },
 "nbformat": 4,
 "nbformat_minor": 2
}
